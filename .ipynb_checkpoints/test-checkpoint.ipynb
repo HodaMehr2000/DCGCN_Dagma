{
 "cells": [
  {
   "cell_type": "code",
   "execution_count": 1,
   "id": "ba3f26a7-db4e-481c-b840-cf57a1f5e22d",
   "metadata": {},
   "outputs": [
    {
     "name": "stdout",
     "output_type": "stream",
     "text": [
      "x_with_pre.shape: torch.Size([3, 1, 3, 5])\n"
     ]
    }
   ],
   "source": [
    "import torch\n",
    "\n",
    "# پارامترهای ساده\n",
    "T, B, N = 2, 1, 3                # توالی تاریخی ۲، یک بَچ، ۳ گره\n",
    "D, F = 5, 1                      # ابعاد ورودی = ۵، ابعاد خروجی = ۱\n",
    "hidden_dim, heads = 4, 2         # H=4 (باید قابل تقسیم بر heads باشد)\n",
    "dist_adj = torch.eye(N)          # گراف فاصله ساده: ماتریس همانی\n",
    "\n",
    "# دوتا تست: هم بدون DAGMA و هم با DAGMA دستی\n",
    "x_with_pre = torch.randn(T+1, B, N, D)  # شکل (3,1,3,5)\n",
    "print(\"x_with_pre.shape:\", x_with_pre.shape)\n"
   ]
  },
  {
   "cell_type": "code",
   "execution_count": 2,
   "id": "4a104947-4d4e-498f-b398-c437128a5c9d",
   "metadata": {},
   "outputs": [
    {
     "name": "stdout",
     "output_type": "stream",
     "text": [
      "Without DAGMA → graphs: torch.Size([2, 1, 2, 3, 3])\n",
      "Without DAGMA → reconst: torch.Size([2, 1, 3, 1])\n"
     ]
    }
   ],
   "source": [
    "from nns.case.dag_gen_gru import DagGenGRUg4s2v1\n",
    "\n",
    "# مدل را با use_dagma=False بساز\n",
    "model_nd = DagGenGRUg4s2v1(\n",
    "    num_nodes=N, in_feats_dim=D, out_feats_dim=F,\n",
    "    hidden_dim=hidden_dim, num_layers=1, num_heads=heads,\n",
    "    feats_layers=1, dist_adj=dist_adj, agg_feats='ori',\n",
    "    node_norm=False, use_norm=False,\n",
    "    use_dagma=False, use_lib_dagma=False  # بدون هیچ پروجکتوری\n",
    ")\n",
    "\n",
    "# فراموش نکن اگر در GPU هستی model_nd.to(device)\n",
    "model_nd.eval()\n",
    "with torch.no_grad():\n",
    "    graphs_nd, reconst_nd = model_nd(x_with_pre, gen_graph_only=False)\n",
    "\n",
    "print(\"Without DAGMA → graphs:\", graphs_nd.shape)\n",
    "print(\"Without DAGMA → reconst:\", reconst_nd.shape)\n"
   ]
  },
  {
   "cell_type": "code",
   "execution_count": 3,
   "id": "85d65c85-ef4f-476b-87bb-1d9a3d2e90df",
   "metadata": {},
   "outputs": [
    {
     "name": "stdout",
     "output_type": "stream",
     "text": [
      "Hand‐written DAGMA → graphs: torch.Size([2, 1, 2, 3, 3])\n",
      "Hand‐written DAGMA → reconst: torch.Size([2, 1, 3, 1])\n"
     ]
    }
   ],
   "source": [
    "from nns.case.dag_gen_gru import DagGenGRUg4s2v1\n",
    "\n",
    "# مدل با پروجکتور دستی DAGMA\n",
    "model_hd = DagGenGRUg4s2v1(\n",
    "    num_nodes=N, in_feats_dim=D, out_feats_dim=F,\n",
    "    hidden_dim=hidden_dim, num_layers=1, num_heads=heads,\n",
    "    feats_layers=1, dist_adj=dist_adj, agg_feats='ori',\n",
    "    node_norm=False, use_norm=False,\n",
    "    use_dagma=True, use_lib_dagma=False,  # فقط نسخه دستی\n",
    "    dagma_mu=1.0, dagma_alpha=1.0, dagma_steps=2\n",
    ")\n",
    "model_hd.eval()\n",
    "with torch.no_grad():\n",
    "    graphs_hd, reconst_hd = model_hd(x_with_pre, gen_graph_only=False)\n",
    "\n",
    "print(\"Hand‐written DAGMA → graphs:\", graphs_hd.shape)\n",
    "print(\"Hand‐written DAGMA → reconst:\", reconst_hd.shape)\n"
   ]
  },
  {
   "cell_type": "code",
   "execution_count": 4,
   "id": "8b3b9e51-2bad-471b-a9ab-1640f8361b82",
   "metadata": {},
   "outputs": [
    {
     "name": "stdout",
     "output_type": "stream",
     "text": [
      "Hand‐written DAGMA → graphs: torch.Size([2, 1, 2, 3, 3])\n",
      "Hand‐written DAGMA → reconst: torch.Size([2, 1, 3, 1])\n"
     ]
    }
   ],
   "source": [
    "from nns.case.dag_gen_gru import DagGenGRUg4s2v1\n",
    "\n",
    "# مدل با پروجکتور دستی DAGMA\n",
    "model_hd = DagGenGRUg4s2v1(\n",
    "    num_nodes=N, in_feats_dim=D, out_feats_dim=F,\n",
    "    hidden_dim=hidden_dim, num_layers=1, num_heads=heads,\n",
    "    feats_layers=1, dist_adj=dist_adj, agg_feats='ori',\n",
    "    node_norm=False, use_norm=False,\n",
    "    use_dagma=True, use_lib_dagma=True,  # نسخه کتابخوانه ای\n",
    "    dagma_mu=1.0, dagma_alpha=1.0, dagma_steps=2\n",
    ")\n",
    "model_hd.eval()\n",
    "with torch.no_grad():\n",
    "    graphs_hd, reconst_hd = model_hd(x_with_pre, gen_graph_only=False)\n",
    "\n",
    "print(\"Hand‐written DAGMA → graphs:\", graphs_hd.shape)\n",
    "print(\"Hand‐written DAGMA → reconst:\", reconst_hd.shape)\n"
   ]
  },
  {
   "cell_type": "code",
   "execution_count": 6,
   "id": "c9d4faec-89b3-4bcb-a451-0592046c0aff",
   "metadata": {},
   "outputs": [
    {
     "name": "stdout",
     "output_type": "stream",
     "text": [
      "graphs shape: torch.Size([2, 1, 2, 3, 3])\n"
     ]
    }
   ],
   "source": [
    "graphs, _ = model_hd(x_with_pre, gen_graph_only=True)\n",
    "print(\"graphs shape:\", graphs.shape)  # Expect (T, B, 2, N, N)\n"
   ]
  },
  {
   "cell_type": "code",
   "execution_count": 14,
   "id": "28314278-4258-4bc4-ac11-53fe36118f3c",
   "metadata": {},
   "outputs": [],
   "source": [
    "from nns.case.pred_blocks import CascadeGCNv2d4\n",
    "\n",
    "pred_model = CascadeGCNv2d4(\n",
    "    num_nodes=N,        # تعداد گره‌های گراف (مثلاً 3)\n",
    "    input_dim=D,        # بعد ویژگی ورودی در هر گره (مثلاً 5)\n",
    "    output_dim=F,       # بعد خروجی (مثلاً 1 برای سرعت/جریان)\n",
    "    hidden_dim=16,      # سایز فضای نهان داخل GCN\n",
    "    dist_adj=dist_adj,  # ماتریس فاصله ثابت (برای اجزای گراف پیش‌فرض)\n",
    "    num_layers=2,       # تعداد لایه‌های cascade در هر بلوک\n",
    "    seq_len=T,          # طول توالی ورودی (مثلاً 2)\n",
    "    horizon=12       # طول توالی پیش‌بینی (مثلاً 2 یا 12)\n",
    ")\n"
   ]
  },
  {
   "cell_type": "code",
   "execution_count": 15,
   "id": "0dfbad8d-433f-4e8a-b534-4a31307fdddb",
   "metadata": {},
   "outputs": [
    {
     "name": "stdout",
     "output_type": "stream",
     "text": [
      "preds shape: torch.Size([12, 1, 3, 1])\n"
     ]
    }
   ],
   "source": [
    "x_hist = x_with_pre[1:]\n",
    "\n",
    "preds = pred_model(x_hist, graphs)\n",
    "print(\"preds shape:\", preds.shape)  # Expect (horizon, B, N, out_dim)\n"
   ]
  },
  {
   "cell_type": "code",
   "execution_count": 16,
   "id": "19603b7a-743a-49c2-8a3a-f44665c0885b",
   "metadata": {},
   "outputs": [
    {
     "name": "stdout",
     "output_type": "stream",
     "text": [
      "tensor([[[[ 0.0692],\n",
      "          [ 0.6082],\n",
      "          [ 0.7238]]],\n",
      "\n",
      "\n",
      "        [[[ 0.3340],\n",
      "          [-0.1947],\n",
      "          [-0.8503]]],\n",
      "\n",
      "\n",
      "        [[[-0.1890],\n",
      "          [-0.0078],\n",
      "          [-0.2325]]],\n",
      "\n",
      "\n",
      "        [[[-1.9260],\n",
      "          [-0.8646],\n",
      "          [ 0.3568]]],\n",
      "\n",
      "\n",
      "        [[[-1.0610],\n",
      "          [-0.8392],\n",
      "          [-1.2524]]],\n",
      "\n",
      "\n",
      "        [[[-0.2192],\n",
      "          [-0.3442],\n",
      "          [-0.5992]]],\n",
      "\n",
      "\n",
      "        [[[ 0.2417],\n",
      "          [ 0.5603],\n",
      "          [ 0.6212]]],\n",
      "\n",
      "\n",
      "        [[[-2.6781],\n",
      "          [-2.2238],\n",
      "          [-2.3295]]],\n",
      "\n",
      "\n",
      "        [[[ 0.5733],\n",
      "          [ 2.0626],\n",
      "          [ 2.4193]]],\n",
      "\n",
      "\n",
      "        [[[ 0.7970],\n",
      "          [ 0.3763],\n",
      "          [ 0.0873]]],\n",
      "\n",
      "\n",
      "        [[[-0.0069],\n",
      "          [ 0.0625],\n",
      "          [ 0.3428]]],\n",
      "\n",
      "\n",
      "        [[[-0.2959],\n",
      "          [-0.0104],\n",
      "          [-0.1796]]]], grad_fn=<PermuteBackward0>)\n",
      "tensor(-2.6781, grad_fn=<MinBackward1>) tensor(2.4193, grad_fn=<MaxBackward1>)\n"
     ]
    }
   ],
   "source": [
    "print(preds)             # خود مقادیر\n",
    "print(preds.min(), preds.max())\n"
   ]
  },
  {
   "cell_type": "code",
   "execution_count": null,
   "id": "71830c85-72d6-4ba6-b059-d100a5eaca2b",
   "metadata": {},
   "outputs": [],
   "source": []
  }
 ],
 "metadata": {
  "kernelspec": {
   "display_name": "Python 3 (ipykernel)",
   "language": "python",
   "name": "python3"
  },
  "language_info": {
   "codemirror_mode": {
    "name": "ipython",
    "version": 3
   },
   "file_extension": ".py",
   "mimetype": "text/x-python",
   "name": "python",
   "nbconvert_exporter": "python",
   "pygments_lexer": "ipython3",
   "version": "3.11.10"
  }
 },
 "nbformat": 4,
 "nbformat_minor": 5
}
