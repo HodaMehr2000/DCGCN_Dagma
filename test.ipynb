{
 "cells": [
  {
   "cell_type": "code",
   "execution_count": 1,
   "id": "ba3f26a7-db4e-481c-b840-cf57a1f5e22d",
   "metadata": {},
   "outputs": [
    {
     "name": "stdout",
     "output_type": "stream",
     "text": [
      "x_with_pre.shape: torch.Size([3, 1, 3, 5])\n"
     ]
    }
   ],
   "source": [
    "import torch\n",
    "\n",
    "# پارامترهای ساده\n",
    "T, B, N = 2, 1, 3                # توالی تاریخی ۲، یک بَچ، ۳ گره\n",
    "D, F = 5, 1                      # ابعاد ورودی = ۵، ابعاد خروجی = ۱\n",
    "hidden_dim, heads = 4, 2         # H=4 (باید قابل تقسیم بر heads باشد)\n",
    "dist_adj = torch.eye(N)          # گراف فاصله ساده: ماتریس همانی\n",
    "\n",
    "# دوتا تست: هم بدون DAGMA و هم با DAGMA دستی\n",
    "x_with_pre = torch.randn(T+1, B, N, D)  # شکل (3,1,3,5)\n",
    "print(\"x_with_pre.shape:\", x_with_pre.shape)\n"
   ]
  },
  {
   "cell_type": "code",
   "execution_count": 2,
   "id": "4a104947-4d4e-498f-b398-c437128a5c9d",
   "metadata": {},
   "outputs": [
    {
     "name": "stdout",
     "output_type": "stream",
     "text": [
      "Without DAGMA → graphs: torch.Size([2, 1, 2, 3, 3])\n",
      "Without DAGMA → reconst: torch.Size([2, 1, 3, 1])\n"
     ]
    }
   ],
   "source": [
    "from nns.case.dag_gen_gru import DagGenGRUg4s2v1\n",
    "\n",
    "# مدل را با use_dagma=False بساز\n",
    "model_nd = DagGenGRUg4s2v1(\n",
    "    num_nodes=N, in_feats_dim=D, out_feats_dim=F,\n",
    "    hidden_dim=hidden_dim, num_layers=1, num_heads=heads,\n",
    "    feats_layers=1, dist_adj=dist_adj, agg_feats='ori',\n",
    "    node_norm=False, use_norm=False,\n",
    "    use_dagma=False, use_lib_dagma=False  # بدون هیچ پروجکتوری\n",
    ")\n",
    "\n",
    "# فراموش نکن اگر در GPU هستی model_nd.to(device)\n",
    "model_nd.eval()\n",
    "with torch.no_grad():\n",
    "    graphs_nd, reconst_nd = model_nd(x_with_pre, gen_graph_only=False)\n",
    "\n",
    "print(\"Without DAGMA → graphs:\", graphs_nd.shape)\n",
    "print(\"Without DAGMA → reconst:\", reconst_nd.shape)\n"
   ]
  },
  {
   "cell_type": "code",
   "execution_count": 3,
   "id": "85d65c85-ef4f-476b-87bb-1d9a3d2e90df",
   "metadata": {},
   "outputs": [
    {
     "name": "stdout",
     "output_type": "stream",
     "text": [
      "Hand‐written DAGMA → graphs: torch.Size([2, 1, 2, 3, 3])\n",
      "Hand‐written DAGMA → reconst: torch.Size([2, 1, 3, 1])\n"
     ]
    }
   ],
   "source": [
    "from nns.case.dag_gen_gru import DagGenGRUg4s2v1\n",
    "\n",
    "# مدل با پروجکتور دستی DAGMA\n",
    "model_hd = DagGenGRUg4s2v1(\n",
    "    num_nodes=N, in_feats_dim=D, out_feats_dim=F,\n",
    "    hidden_dim=hidden_dim, num_layers=1, num_heads=heads,\n",
    "    feats_layers=1, dist_adj=dist_adj, agg_feats='ori',\n",
    "    node_norm=False, use_norm=False,\n",
    "    use_dagma=True, use_lib_dagma=False,  # فقط نسخه دستی\n",
    "    dagma_mu=1.0, dagma_alpha=1.0, dagma_steps=2\n",
    ")\n",
    "model_hd.eval()\n",
    "with torch.no_grad():\n",
    "    graphs_hd, reconst_hd = model_hd(x_with_pre, gen_graph_only=False)\n",
    "\n",
    "print(\"Hand‐written DAGMA → graphs:\", graphs_hd.shape)\n",
    "print(\"Hand‐written DAGMA → reconst:\", reconst_hd.shape)\n"
   ]
  },
  {
   "cell_type": "code",
   "execution_count": 4,
   "id": "8b3b9e51-2bad-471b-a9ab-1640f8361b82",
   "metadata": {},
   "outputs": [
    {
     "name": "stdout",
     "output_type": "stream",
     "text": [
      "Hand‐written DAGMA → graphs: torch.Size([2, 1, 2, 3, 3])\n",
      "Hand‐written DAGMA → reconst: torch.Size([2, 1, 3, 1])\n"
     ]
    }
   ],
   "source": [
    "from nns.case.dag_gen_gru import DagGenGRUg4s2v1\n",
    "\n",
    "# مدل با پروجکتور دستی DAGMA\n",
    "model_hd = DagGenGRUg4s2v1(\n",
    "    num_nodes=N, in_feats_dim=D, out_feats_dim=F,\n",
    "    hidden_dim=hidden_dim, num_layers=1, num_heads=heads,\n",
    "    feats_layers=1, dist_adj=dist_adj, agg_feats='ori',\n",
    "    node_norm=False, use_norm=False,\n",
    "    use_dagma=True, use_lib_dagma=True,  # نسخه کتابخوانه ای\n",
    "    dagma_mu=1.0, dagma_alpha=1.0, dagma_steps=2\n",
    ")\n",
    "model_hd.eval()\n",
    "with torch.no_grad():\n",
    "    graphs_hd, reconst_hd = model_hd(x_with_pre, gen_graph_only=False)\n",
    "\n",
    "print(\"Hand‐written DAGMA → graphs:\", graphs_hd.shape)\n",
    "print(\"Hand‐written DAGMA → reconst:\", reconst_hd.shape)\n"
   ]
  },
  {
   "cell_type": "code",
   "execution_count": 5,
   "id": "c9d4faec-89b3-4bcb-a451-0592046c0aff",
   "metadata": {},
   "outputs": [
    {
     "name": "stdout",
     "output_type": "stream",
     "text": [
      "graphs shape: torch.Size([2, 1, 2, 3, 3])\n"
     ]
    }
   ],
   "source": [
    "graphs, _ = model_hd(x_with_pre, gen_graph_only=True)\n",
    "print(\"graphs shape:\", graphs.shape)  # Expect (T, B, 2, N, N)\n"
   ]
  },
  {
   "cell_type": "code",
   "execution_count": 6,
   "id": "28314278-4258-4bc4-ac11-53fe36118f3c",
   "metadata": {},
   "outputs": [],
   "source": [
    "from nns.case.pred_blocks import CascadeGCNv2d4\n",
    "\n",
    "pred_model = CascadeGCNv2d4(\n",
    "    num_nodes=N,        # تعداد گره‌های گراف (مثلاً 3)\n",
    "    input_dim=D,        # بعد ویژگی ورودی در هر گره (مثلاً 5)\n",
    "    output_dim=F,       # بعد خروجی (مثلاً 1 برای سرعت/جریان)\n",
    "    hidden_dim=16,      # سایز فضای نهان داخل GCN\n",
    "    dist_adj=dist_adj,  # ماتریس فاصله ثابت (برای اجزای گراف پیش‌فرض)\n",
    "    num_layers=2,       # تعداد لایه‌های cascade در هر بلوک\n",
    "    seq_len=T,          # طول توالی ورودی (مثلاً 2)\n",
    "    horizon=12       # طول توالی پیش‌بینی (مثلاً 2 یا 12)\n",
    ")\n"
   ]
  },
  {
   "cell_type": "code",
   "execution_count": 7,
   "id": "0dfbad8d-433f-4e8a-b534-4a31307fdddb",
   "metadata": {},
   "outputs": [
    {
     "name": "stdout",
     "output_type": "stream",
     "text": [
      "preds shape: torch.Size([12, 1, 3, 1])\n"
     ]
    }
   ],
   "source": [
    "x_hist = x_with_pre[1:]\n",
    "\n",
    "preds = pred_model(x_hist, graphs)\n",
    "print(\"preds shape:\", preds.shape)  # Expect (horizon, B, N, out_dim)\n"
   ]
  },
  {
   "cell_type": "code",
   "execution_count": 8,
   "id": "19603b7a-743a-49c2-8a3a-f44665c0885b",
   "metadata": {
    "collapsed": true,
    "jupyter": {
     "outputs_hidden": true
    }
   },
   "outputs": [
    {
     "name": "stdout",
     "output_type": "stream",
     "text": [
      "tensor([[[[ 0.0777],\n",
      "          [ 0.0026],\n",
      "          [ 0.3642]]],\n",
      "\n",
      "\n",
      "        [[[-1.5881],\n",
      "          [-0.9944],\n",
      "          [-1.1983]]],\n",
      "\n",
      "\n",
      "        [[[ 1.0413],\n",
      "          [ 1.3954],\n",
      "          [ 0.8983]]],\n",
      "\n",
      "\n",
      "        [[[-0.6704],\n",
      "          [ 1.0071],\n",
      "          [ 0.5868]]],\n",
      "\n",
      "\n",
      "        [[[-0.1207],\n",
      "          [-0.4232],\n",
      "          [-0.4399]]],\n",
      "\n",
      "\n",
      "        [[[ 0.1336],\n",
      "          [-0.6387],\n",
      "          [-1.1277]]],\n",
      "\n",
      "\n",
      "        [[[ 1.6852],\n",
      "          [ 0.9076],\n",
      "          [ 0.4550]]],\n",
      "\n",
      "\n",
      "        [[[ 0.5845],\n",
      "          [ 0.7953],\n",
      "          [ 0.2825]]],\n",
      "\n",
      "\n",
      "        [[[ 0.9248],\n",
      "          [-0.3479],\n",
      "          [-0.9326]]],\n",
      "\n",
      "\n",
      "        [[[-0.0794],\n",
      "          [ 0.8175],\n",
      "          [ 0.7715]]],\n",
      "\n",
      "\n",
      "        [[[-0.0404],\n",
      "          [-0.8377],\n",
      "          [-0.8250]]],\n",
      "\n",
      "\n",
      "        [[[ 1.0412],\n",
      "          [ 1.4962],\n",
      "          [ 0.2766]]]], grad_fn=<PermuteBackward0>)\n",
      "tensor(-1.5881, grad_fn=<MinBackward1>) tensor(1.6852, grad_fn=<MaxBackward1>)\n"
     ]
    }
   ],
   "source": [
    "print(preds)             # خود مقادیر\n",
    "print(preds.min(), preds.max())\n"
   ]
  },
  {
   "cell_type": "code",
   "execution_count": 14,
   "id": "71830c85-72d6-4ba6-b059-d100a5eaca2b",
   "metadata": {},
   "outputs": [
    {
     "name": "stdout",
     "output_type": "stream",
     "text": [
      "MAE: 1.0658, RMSE: 1.4096, MAPE: 93.08%\n"
     ]
    }
   ],
   "source": [
    "from utils.metrics_lib import All_Metrics\n",
    "y_true = torch.randn_like(preds)\n",
    "mae, rmse, mape = All_Metrics(preds, y_true, 0.1, 0.1 )\n",
    "print(f\"MAE: {mae:.4f}, RMSE: {rmse:.4f}, MAPE: {mape*100:.2f}%\")\n"
   ]
  },
  {
   "cell_type": "code",
   "execution_count": null,
   "id": "edda82d2-9034-4f1b-82e0-5f1582f8e87f",
   "metadata": {},
   "outputs": [],
   "source": [
    "import os\n",
    "import yaml\n",
    "import torch\n",
    "from utils.path_utils import get_model_config_path, base_dir\n",
    "from nns.case.supervisor_pred import CASECausalPred\n",
    "\n",
    "# ۱) مسیر نسبی را که تابع کمکت ساخته بگیر\n",
    "rel_path = get_model_config_path('pred', model_dir_name='models')\n",
    "#    مثال: \"data/models/pred/pred_la.yaml\"\n",
    "\n",
    "# ۲) آن را با base_dir ترکیب کن\n",
    "cfg_path = os.path.join(base_dir, rel_path)\n",
    "print(\"loading config from:\", cfg_path)\n",
    "#    باید چیزی شبیه:\n",
    "#    loading config from: /.../DCGCN_Dagma/data/models/pred/pred_la.yaml\n",
    "\n",
    "# ۳) فایل YAML را باز و بخوان\n",
    "with open(cfg_path, 'r') as f:\n",
    "    config = yaml.safe_load(f)\n",
    "\n",
    "# ۴) به config کلید base_dir بده\n",
    "config['base_dir'] = base_dir\n",
    "\n",
    "# ۵) ساخت شیء سوپروایزر\n",
    "supervisor = CASECausalPred(**config)\n",
    "\n",
    "# ۶) (اختیاری) اگر GPU داری:\n",
    "device = torch.device('cuda' if torch.cuda.is_available() else 'cpu')\n",
    "# معمولاً داخل Supervisor خودش مدل را به device می‌فرستد.\n",
    "\n",
    "# ۷) شروع آموزش\n",
    "supervisor.train()\n",
    "\n",
    "# ۸) اجرا روی داده‌ی تست و گرفتن نتایج\n",
    "results = supervisor.test()\n",
    "print(\"Test losses per horizon:\\n\", results['loss'])\n",
    "\n",
    "# ۹) ذخیره و لاگ کردن هایپرپارامترها و نتایج\n",
    "supervisor.test_and_log_hparms()\n"
   ]
  },
  {
   "cell_type": "code",
   "execution_count": 16,
   "id": "b33fe91a-f1f6-4f18-91a0-f0e37a5bc251",
   "metadata": {},
   "outputs": [
    {
     "ename": "FileNotFoundError",
     "evalue": "[Errno 2] No such file or directory: 'D:/Code_Files/Pycharm/Traffic_CASE\\\\data/models/pred\\\\pred_la.yaml'",
     "output_type": "error",
     "traceback": [
      "\u001b[1;31m---------------------------------------------------------------------------\u001b[0m",
      "\u001b[1;31mFileNotFoundError\u001b[0m                         Traceback (most recent call last)",
      "Cell \u001b[1;32mIn[16], line 6\u001b[0m\n\u001b[0;32m      4\u001b[0m \u001b[38;5;66;03m# مسیر فایل کانفیگ مدل pred\u001b[39;00m\n\u001b[0;32m      5\u001b[0m cfg_path \u001b[38;5;241m=\u001b[39m get_model_config_path(\u001b[38;5;124m'\u001b[39m\u001b[38;5;124mpred\u001b[39m\u001b[38;5;124m'\u001b[39m, model_dir_name\u001b[38;5;241m=\u001b[39m\u001b[38;5;124m'\u001b[39m\u001b[38;5;124mmodels\u001b[39m\u001b[38;5;124m'\u001b[39m)\n\u001b[1;32m----> 6\u001b[0m \u001b[38;5;28;01mwith\u001b[39;00m \u001b[38;5;28mopen\u001b[39m(cfg_path) \u001b[38;5;28;01mas\u001b[39;00m f:\n\u001b[0;32m      7\u001b[0m     config \u001b[38;5;241m=\u001b[39m yaml\u001b[38;5;241m.\u001b[39msafe_load(f)\n\u001b[0;32m      9\u001b[0m \u001b[38;5;66;03m# مطمئن شو base_dir را هم به config اضافه می‌کنیم\u001b[39;00m\n",
      "File \u001b[1;32m~\\anaconda3\\Lib\\site-packages\\IPython\\core\\interactiveshell.py:324\u001b[0m, in \u001b[0;36m_modified_open\u001b[1;34m(file, *args, **kwargs)\u001b[0m\n\u001b[0;32m    317\u001b[0m \u001b[38;5;28;01mif\u001b[39;00m file \u001b[38;5;129;01min\u001b[39;00m {\u001b[38;5;241m0\u001b[39m, \u001b[38;5;241m1\u001b[39m, \u001b[38;5;241m2\u001b[39m}:\n\u001b[0;32m    318\u001b[0m     \u001b[38;5;28;01mraise\u001b[39;00m \u001b[38;5;167;01mValueError\u001b[39;00m(\n\u001b[0;32m    319\u001b[0m         \u001b[38;5;124mf\u001b[39m\u001b[38;5;124m\"\u001b[39m\u001b[38;5;124mIPython won\u001b[39m\u001b[38;5;124m'\u001b[39m\u001b[38;5;124mt let you open fd=\u001b[39m\u001b[38;5;132;01m{\u001b[39;00mfile\u001b[38;5;132;01m}\u001b[39;00m\u001b[38;5;124m by default \u001b[39m\u001b[38;5;124m\"\u001b[39m\n\u001b[0;32m    320\u001b[0m         \u001b[38;5;124m\"\u001b[39m\u001b[38;5;124mas it is likely to crash IPython. If you know what you are doing, \u001b[39m\u001b[38;5;124m\"\u001b[39m\n\u001b[0;32m    321\u001b[0m         \u001b[38;5;124m\"\u001b[39m\u001b[38;5;124myou can use builtins\u001b[39m\u001b[38;5;124m'\u001b[39m\u001b[38;5;124m open.\u001b[39m\u001b[38;5;124m\"\u001b[39m\n\u001b[0;32m    322\u001b[0m     )\n\u001b[1;32m--> 324\u001b[0m \u001b[38;5;28;01mreturn\u001b[39;00m io_open(file, \u001b[38;5;241m*\u001b[39margs, \u001b[38;5;241m*\u001b[39m\u001b[38;5;241m*\u001b[39mkwargs)\n",
      "\u001b[1;31mFileNotFoundError\u001b[0m: [Errno 2] No such file or directory: 'D:/Code_Files/Pycharm/Traffic_CASE\\\\data/models/pred\\\\pred_la.yaml'"
     ]
    }
   ],
   "source": [
    "\n",
    "\n",
    "supervisor = CascadeGCNv2d4(**config)\n",
    "supervisor.train()                 # آموزش causal generator + prediction\n",
    "results = supervisor.test()        # تست نهایی\n",
    "supervisor.test_and_log_hparms()   # لاگ‌گیری hparam + metrics\n"
   ]
  },
  {
   "cell_type": "code",
   "execution_count": null,
   "id": "4d5ceef7-2979-4663-97c5-312aa51adbad",
   "metadata": {},
   "outputs": [],
   "source": []
  }
 ],
 "metadata": {
  "kernelspec": {
   "display_name": "Python 3 (ipykernel)",
   "language": "python",
   "name": "python3"
  },
  "language_info": {
   "codemirror_mode": {
    "name": "ipython",
    "version": 3
   },
   "file_extension": ".py",
   "mimetype": "text/x-python",
   "name": "python",
   "nbconvert_exporter": "python",
   "pygments_lexer": "ipython3",
   "version": "3.11.10"
  }
 },
 "nbformat": 4,
 "nbformat_minor": 5
}
